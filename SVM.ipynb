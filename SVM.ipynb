{
  "nbformat": 4,
  "nbformat_minor": 0,
  "metadata": {
    "colab": {
      "name": "SVM.ipynb",
      "provenance": [],
      "collapsed_sections": []
    },
    "kernelspec": {
      "name": "python3",
      "display_name": "Python 3"
    }
  },
  "cells": [
    {
      "cell_type": "markdown",
      "metadata": {
        "id": "LBworllB_t-Y",
        "colab_type": "text"
      },
      "source": [
        "# SVM (Support Vector Machine)"
      ]
    },
    {
      "cell_type": "markdown",
      "metadata": {
        "id": "WwknlvrGFYc0",
        "colab_type": "text"
      },
      "source": [
        "### (SVM): a fast and dependable classification algorithm that performs very well with a limited amount of data"
      ]
    },
    {
      "cell_type": "markdown",
      "metadata": {
        "id": "0iPzuDiZAIrW",
        "colab_type": "text"
      },
      "source": [
        "![alt text](https://miro.medium.com/max/1280/1*VDATmWG1E1ZNg7hdasOh5g.png)"
      ]
    },
    {
      "cell_type": "markdown",
      "metadata": {
        "id": "20_qP4LQIwPr",
        "colab_type": "text"
      },
      "source": [
        "### **Goal ---> Find the optimal decision boundary**"
      ]
    },
    {
      "cell_type": "markdown",
      "metadata": {
        "id": "sZZFSChxJ93E",
        "colab_type": "text"
      },
      "source": [
        "Find the support vectors\n"
      ]
    },
    {
      "cell_type": "markdown",
      "metadata": {
        "id": "kxTrstRTK4Lt",
        "colab_type": "text"
      },
      "source": [
        "st1 - maximise the margin "
      ]
    },
    {
      "cell_type": "markdown",
      "metadata": {
        "id": "1L59KnvDK4Om",
        "colab_type": "text"
      },
      "source": [
        "st2 - hyperlane in the centr of both margins"
      ]
    },
    {
      "cell_type": "markdown",
      "metadata": {
        "id": "qeSFBSfeK4Rg",
        "colab_type": "text"
      },
      "source": [
        ""
      ]
    },
    {
      "cell_type": "markdown",
      "metadata": {
        "id": "1Z84zA3SK4YV",
        "colab_type": "text"
      },
      "source": [
        ""
      ]
    },
    {
      "cell_type": "markdown",
      "metadata": {
        "id": "LZ3rszCVK4ju",
        "colab_type": "text"
      },
      "source": [
        "![alt text](https://miro.medium.com/max/1280/1*irg_jfdAar9gfe0j-Q04vQ.png)"
      ]
    },
    {
      "cell_type": "markdown",
      "metadata": {
        "id": "B8dl1fXwZbmP",
        "colab_type": "text"
      },
      "source": [
        ""
      ]
    },
    {
      "cell_type": "markdown",
      "metadata": {
        "id": "9y7F9PtcZbpZ",
        "colab_type": "text"
      },
      "source": [
        ""
      ]
    },
    {
      "cell_type": "code",
      "metadata": {
        "id": "XecjMSWtaFC5",
        "colab_type": "code",
        "colab": {}
      },
      "source": [
        "import numpy as np\n",
        "X = np.array([[-1, -1], [-2, -1], [1, 1], [2, 1]])\n",
        "y = np.array([1, 1, 2, 2])"
      ],
      "execution_count": 0,
      "outputs": []
    },
    {
      "cell_type": "markdown",
      "metadata": {
        "id": "m_hdoiNfbKRM",
        "colab_type": "text"
      },
      "source": [
        "# in \"x\" we have our points \n",
        "# in \"y\" we have which class it belongs to"
      ]
    },
    {
      "cell_type": "code",
      "metadata": {
        "id": "NNPHKZPYby-m",
        "colab_type": "code",
        "outputId": "ff7429ec-9abe-44bc-c052-372bc5f7cd52",
        "colab": {
          "base_uri": "https://localhost:8080/",
          "height": 85
        }
      },
      "source": [
        "from sklearn.svm import SVC # Importing support Vector classier dem sk learn\n",
        "clf = SVC(kernel='linear')  #exp \n",
        "clf.fit(X, y)      #exp "
      ],
      "execution_count": 0,
      "outputs": [
        {
          "output_type": "execute_result",
          "data": {
            "text/plain": [
              "SVC(C=1.0, cache_size=200, class_weight=None, coef0=0.0,\n",
              "    decision_function_shape='ovr', degree=3, gamma='auto_deprecated',\n",
              "    kernel='linear', max_iter=-1, probability=False, random_state=None,\n",
              "    shrinking=True, tol=0.001, verbose=False)"
            ]
          },
          "metadata": {
            "tags": []
          },
          "execution_count": 30
        }
      ]
    },
    {
      "cell_type": "code",
      "metadata": {
        "id": "2KV23lE9cWU3",
        "colab_type": "code",
        "colab": {}
      },
      "source": [
        "prediction = clf.predict([[0,6]]) "
      ],
      "execution_count": 0,
      "outputs": []
    },
    {
      "cell_type": "code",
      "metadata": {
        "id": "n3tBbc9N4Da-",
        "colab_type": "code",
        "outputId": "b09b88f3-6f7a-45a2-de54-fb347e2d21a2",
        "colab": {
          "base_uri": "https://localhost:8080/",
          "height": 34
        }
      },
      "source": [
        "print(prediction)"
      ],
      "execution_count": 0,
      "outputs": [
        {
          "output_type": "stream",
          "text": [
            "[2]\n"
          ],
          "name": "stdout"
        }
      ]
    },
    {
      "cell_type": "markdown",
      "metadata": {
        "id": "QZW5zn6Iaz1U",
        "colab_type": "text"
      },
      "source": [
        "## Some problems can’t be solved using linear hyperplane"
      ]
    },
    {
      "cell_type": "markdown",
      "metadata": {
        "id": "Xkul-rtWa51O",
        "colab_type": "text"
      },
      "source": [
        "![alt text](https://1.bp.blogspot.com/-QkmUgDpW2PA/XYHnOwiIsdI/AAAAAAAADeo/FsLvABRZGjgvcoWizsrSkag8ciHDkRwSgCLcBGAsYHQ/s320/Screenshot%2B2019-09-18%2Bat%2B1.42.02%2BPM.png)"
      ]
    },
    {
      "cell_type": "markdown",
      "metadata": {
        "id": "iMIw4iF9dFUa",
        "colab_type": "text"
      },
      "source": [
        "## Kernel Trick (Transform the input space into a higher dimension)\n",
        "\n",
        "dp plotted on higher dimensions "
      ]
    },
    {
      "cell_type": "markdown",
      "metadata": {
        "id": "2W7SgoJzehV6",
        "colab_type": "text"
      },
      "source": [
        "![alt text](https://1.bp.blogspot.com/-DeuGO9C62eg/XYINEroI_II/AAAAAAAADfA/zCxMABZzOn0Op75PqtWBDvBD8shAHLpAQCLcBGAsYHQ/s320/Screenshot%2B2019-09-18%2Bat%2B4.24.23%2BPM.png)\n",
        "\n",
        "(Z is the squared sum of both x and y: z=x^2+y^2)\n",
        "\n",
        "it converts nonseparable problem to separable problems by adding more dimension to it. "
      ]
    },
    {
      "cell_type": "markdown",
      "metadata": {
        "id": "6VeYKyoOhEon",
        "colab_type": "text"
      },
      "source": [
        "SVM algos are implemented using Kernels "
      ]
    },
    {
      "cell_type": "markdown",
      "metadata": {
        "id": "OPpv8Ptmdl9z",
        "colab_type": "text"
      },
      "source": [
        "**nonseparable problem to separable problems**"
      ]
    },
    {
      "cell_type": "markdown",
      "metadata": {
        "id": "I35cZSpqiuVK",
        "colab_type": "text"
      },
      "source": [
        "## SVM based Classifier training "
      ]
    },
    {
      "cell_type": "markdown",
      "metadata": {
        "id": "dTL1tJM6jGuu",
        "colab_type": "text"
      },
      "source": [
        "**Common Cancer dataset**"
      ]
    },
    {
      "cell_type": "markdown",
      "metadata": {
        "id": "_B8TNY3rjlFY",
        "colab_type": "text"
      },
      "source": [
        "This data has two types of cancer classes: malignant (harmful) and benign (not harmful). Here, you can build a model to classify the type of cancer. The dataset is available in the scikit-learn library or you can also download it from the UCI Machine Learning Library.\n",
        "\n",
        "**Features of dataset**\n",
        "\n",
        "**mean radius, mean texture, mean perimeter, mean area, mean smoothness, mean compactness, mean concavity, mean concave points, mean symmetry, mean fractal dimension, radius error, texture error, perimeter error, area error, smoothness error, compactness error, concavity error, concave points error, symmetry error, fractal dimension error, worst radius, worst texture, worst perimeter, worst area, worst smoothness, worst compactness, worst concavity, worst concave points, worst symmetry, and worst fractal dimension** And type of Cancer"
      ]
    },
    {
      "cell_type": "markdown",
      "metadata": {
        "id": "4bH21BMRkq9k",
        "colab_type": "text"
      },
      "source": [
        "## Data Classes "
      ]
    },
    {
      "cell_type": "markdown",
      "metadata": {
        "id": "QKgfo5PvkaIi",
        "colab_type": "text"
      },
      "source": [
        "malignant (harmful) and benign (not harmful)"
      ]
    },
    {
      "cell_type": "markdown",
      "metadata": {
        "id": "oeTsFDlrlmig",
        "colab_type": "text"
      },
      "source": [
        "![alt text](https://www.caperay.com/blog/wp-content/uploads/2015/11/Benign_Malignant_Masses.jpg)"
      ]
    },
    {
      "cell_type": "markdown",
      "metadata": {
        "id": "Z10jTJO2syBN",
        "colab_type": "text"
      },
      "source": [
        "\n",
        "\n",
        "---\n",
        "\n",
        "\n",
        "\n",
        "---\n",
        "\n"
      ]
    },
    {
      "cell_type": "code",
      "metadata": {
        "id": "ZaSekAdFmFGF",
        "colab_type": "code",
        "colab": {}
      },
      "source": [
        "#Import scikit-learn dataset library\n",
        "from sklearn import datasets\n",
        "# Import train_test_split function\n",
        "from sklearn.model_selection import train_test_split\n",
        "\n",
        "\n",
        "cancer = datasets.load_breast_cancer() #scikit-learn comes with a few standard datasets. You can import these datasets by using this code."
      ],
      "execution_count": 0,
      "outputs": []
    },
    {
      "cell_type": "code",
      "metadata": {
        "id": "rSXzQ60gmdIi",
        "colab_type": "code",
        "outputId": "aa7154d5-37ca-49db-8607-dff1b144f029",
        "colab": {
          "base_uri": "https://localhost:8080/",
          "height": 187
        }
      },
      "source": [
        "# Now we are printing the names of the 13 features of our importeed dataset\n",
        "print(\"Features: \", cancer.feature_names)\n",
        "\n",
        "# print the label type of cancer('malignant' 'benign')\n",
        "print(\"Labels: \", cancer.target_names)"
      ],
      "execution_count": 0,
      "outputs": [
        {
          "output_type": "stream",
          "text": [
            "Features:  ['mean radius' 'mean texture' 'mean perimeter' 'mean area'\n",
            " 'mean smoothness' 'mean compactness' 'mean concavity'\n",
            " 'mean concave points' 'mean symmetry' 'mean fractal dimension'\n",
            " 'radius error' 'texture error' 'perimeter error' 'area error'\n",
            " 'smoothness error' 'compactness error' 'concavity error'\n",
            " 'concave points error' 'symmetry error' 'fractal dimension error'\n",
            " 'worst radius' 'worst texture' 'worst perimeter' 'worst area'\n",
            " 'worst smoothness' 'worst compactness' 'worst concavity'\n",
            " 'worst concave points' 'worst symmetry' 'worst fractal dimension']\n",
            "Labels:  ['malignant' 'benign']\n"
          ],
          "name": "stdout"
        }
      ]
    },
    {
      "cell_type": "code",
      "metadata": {
        "id": "YDR9Hhv-mq8V",
        "colab_type": "code",
        "outputId": "e59ecd9a-227f-42ad-fe75-428ba9394af2",
        "colab": {
          "base_uri": "https://localhost:8080/",
          "height": 34
        }
      },
      "source": [
        "# print data(feature)shape\n",
        "cancer.data.shape"
      ],
      "execution_count": 0,
      "outputs": [
        {
          "output_type": "execute_result",
          "data": {
            "text/plain": [
              "(569, 30)"
            ]
          },
          "metadata": {
            "tags": []
          },
          "execution_count": 15
        }
      ]
    },
    {
      "cell_type": "markdown",
      "metadata": {
        "id": "q6hSuQJQmOBF",
        "colab_type": "text"
      },
      "source": [
        ""
      ]
    },
    {
      "cell_type": "code",
      "metadata": {
        "id": "ODNLXAC3muA4",
        "colab_type": "code",
        "outputId": "b6144b26-e289-4c2e-88cb-03ddeaabf459",
        "colab": {
          "base_uri": "https://localhost:8080/",
          "height": 442
        }
      },
      "source": [
        "# print the cancer data features (top 5 )\n",
        "print(cancer.data[0:5])"
      ],
      "execution_count": 0,
      "outputs": [
        {
          "output_type": "stream",
          "text": [
            "[[1.799e+01 1.038e+01 1.228e+02 1.001e+03 1.184e-01 2.776e-01 3.001e-01\n",
            "  1.471e-01 2.419e-01 7.871e-02 1.095e+00 9.053e-01 8.589e+00 1.534e+02\n",
            "  6.399e-03 4.904e-02 5.373e-02 1.587e-02 3.003e-02 6.193e-03 2.538e+01\n",
            "  1.733e+01 1.846e+02 2.019e+03 1.622e-01 6.656e-01 7.119e-01 2.654e-01\n",
            "  4.601e-01 1.189e-01]\n",
            " [2.057e+01 1.777e+01 1.329e+02 1.326e+03 8.474e-02 7.864e-02 8.690e-02\n",
            "  7.017e-02 1.812e-01 5.667e-02 5.435e-01 7.339e-01 3.398e+00 7.408e+01\n",
            "  5.225e-03 1.308e-02 1.860e-02 1.340e-02 1.389e-02 3.532e-03 2.499e+01\n",
            "  2.341e+01 1.588e+02 1.956e+03 1.238e-01 1.866e-01 2.416e-01 1.860e-01\n",
            "  2.750e-01 8.902e-02]\n",
            " [1.969e+01 2.125e+01 1.300e+02 1.203e+03 1.096e-01 1.599e-01 1.974e-01\n",
            "  1.279e-01 2.069e-01 5.999e-02 7.456e-01 7.869e-01 4.585e+00 9.403e+01\n",
            "  6.150e-03 4.006e-02 3.832e-02 2.058e-02 2.250e-02 4.571e-03 2.357e+01\n",
            "  2.553e+01 1.525e+02 1.709e+03 1.444e-01 4.245e-01 4.504e-01 2.430e-01\n",
            "  3.613e-01 8.758e-02]\n",
            " [1.142e+01 2.038e+01 7.758e+01 3.861e+02 1.425e-01 2.839e-01 2.414e-01\n",
            "  1.052e-01 2.597e-01 9.744e-02 4.956e-01 1.156e+00 3.445e+00 2.723e+01\n",
            "  9.110e-03 7.458e-02 5.661e-02 1.867e-02 5.963e-02 9.208e-03 1.491e+01\n",
            "  2.650e+01 9.887e+01 5.677e+02 2.098e-01 8.663e-01 6.869e-01 2.575e-01\n",
            "  6.638e-01 1.730e-01]\n",
            " [2.029e+01 1.434e+01 1.351e+02 1.297e+03 1.003e-01 1.328e-01 1.980e-01\n",
            "  1.043e-01 1.809e-01 5.883e-02 7.572e-01 7.813e-01 5.438e+00 9.444e+01\n",
            "  1.149e-02 2.461e-02 5.688e-02 1.885e-02 1.756e-02 5.115e-03 2.254e+01\n",
            "  1.667e+01 1.522e+02 1.575e+03 1.374e-01 2.050e-01 4.000e-01 1.625e-01\n",
            "  2.364e-01 7.678e-02]]\n"
          ],
          "name": "stdout"
        }
      ]
    },
    {
      "cell_type": "code",
      "metadata": {
        "id": "Mkg_StsEm8t_",
        "colab_type": "code",
        "outputId": "b9876ec9-1d44-43de-d5fd-9c8748b63343",
        "colab": {
          "base_uri": "https://localhost:8080/",
          "height": 289
        }
      },
      "source": [
        "# print the cancer labels (0:malignant, 1:benign)\n",
        "print(cancer.target)"
      ],
      "execution_count": 0,
      "outputs": [
        {
          "output_type": "stream",
          "text": [
            "[0 0 0 0 0 0 0 0 0 0 0 0 0 0 0 0 0 0 0 1 1 1 0 0 0 0 0 0 0 0 0 0 0 0 0 0 0\n",
            " 1 0 0 0 0 0 0 0 0 1 0 1 1 1 1 1 0 0 1 0 0 1 1 1 1 0 1 0 0 1 1 1 1 0 1 0 0\n",
            " 1 0 1 0 0 1 1 1 0 0 1 0 0 0 1 1 1 0 1 1 0 0 1 1 1 0 0 1 1 1 1 0 1 1 0 1 1\n",
            " 1 1 1 1 1 1 0 0 0 1 0 0 1 1 1 0 0 1 0 1 0 0 1 0 0 1 1 0 1 1 0 1 1 1 1 0 1\n",
            " 1 1 1 1 1 1 1 1 0 1 1 1 1 0 0 1 0 1 1 0 0 1 1 0 0 1 1 1 1 0 1 1 0 0 0 1 0\n",
            " 1 0 1 1 1 0 1 1 0 0 1 0 0 0 0 1 0 0 0 1 0 1 0 1 1 0 1 0 0 0 0 1 1 0 0 1 1\n",
            " 1 0 1 1 1 1 1 0 0 1 1 0 1 1 0 0 1 0 1 1 1 1 0 1 1 1 1 1 0 1 0 0 0 0 0 0 0\n",
            " 0 0 0 0 0 0 0 1 1 1 1 1 1 0 1 0 1 1 0 1 1 0 1 0 0 1 1 1 1 1 1 1 1 1 1 1 1\n",
            " 1 0 1 1 0 1 0 1 1 1 1 1 1 1 1 1 1 1 1 1 1 0 1 1 1 0 1 0 1 1 1 1 0 0 0 1 1\n",
            " 1 1 0 1 0 1 0 1 1 1 0 1 1 1 1 1 1 1 0 0 0 1 1 1 1 1 1 1 1 1 1 1 0 0 1 0 0\n",
            " 0 1 0 0 1 1 1 1 1 0 1 1 1 1 1 0 1 1 1 0 1 1 0 0 1 1 1 1 1 1 0 1 1 1 1 1 1\n",
            " 1 0 1 1 1 1 1 0 1 1 0 1 1 1 1 1 1 1 1 1 1 1 1 0 1 0 0 1 0 1 1 1 1 1 0 1 1\n",
            " 0 1 0 1 1 0 1 0 1 1 1 1 1 1 1 1 0 0 1 1 1 1 1 1 0 1 1 1 1 1 1 1 1 1 1 0 1\n",
            " 1 1 1 1 1 1 0 1 0 1 1 0 1 1 1 1 1 0 0 1 0 1 0 1 1 1 1 1 0 1 1 0 1 0 1 0 0\n",
            " 1 1 1 0 1 1 1 1 1 1 1 1 1 1 1 0 1 0 0 1 1 1 1 1 1 1 1 1 1 1 1 1 1 1 1 1 1\n",
            " 1 1 1 1 1 1 1 0 0 0 0 0 0 1]\n"
          ],
          "name": "stdout"
        }
      ]
    },
    {
      "cell_type": "markdown",
      "metadata": {
        "id": "-Lj8RSyMmODq",
        "colab_type": "text"
      },
      "source": [
        ""
      ]
    },
    {
      "cell_type": "code",
      "metadata": {
        "id": "nd51aI9enMEa",
        "colab_type": "code",
        "colab": {}
      },
      "source": [
        "#  You need to pass 3 parameters features, target, and test_set size. Additionally, you can use random_state to select records randomly. \n",
        "# Split dataset into training set and test set\n",
        "X_train, X_test, y_train, y_test = train_test_split(cancer.data, cancer.target, test_size=0.3,random_state=109) # 70% training and 30% test"
      ],
      "execution_count": 0,
      "outputs": []
    },
    {
      "cell_type": "markdown",
      "metadata": {
        "id": "exasPWX1mOG4",
        "colab_type": "text"
      },
      "source": [
        ""
      ]
    },
    {
      "cell_type": "code",
      "metadata": {
        "id": "Sqo32VCNoO_4",
        "colab_type": "code",
        "colab": {}
      },
      "source": [
        "#Import svm model\n",
        "from sklearn import svm\n",
        "\n",
        "#Now we are Creating a svm Classifier \n",
        "clf = svm.SVC(kernel='linear') # Linear Kernel\n",
        "\n",
        "#Train the model using the training sets\n",
        "clf.fit(X_train, y_train)\n",
        "\n",
        "#Predict the response for test dataset\n",
        "y_pred = clf.predict(X_test)"
      ],
      "execution_count": 0,
      "outputs": []
    },
    {
      "cell_type": "code",
      "metadata": {
        "id": "wFRw_ADnpDXn",
        "colab_type": "code",
        "outputId": "76ccff8d-5984-4de4-a69d-6e26f736fbfc",
        "colab": {
          "base_uri": "https://localhost:8080/",
          "height": 34
        }
      },
      "source": [
        "#Import scikit-learn metrics module for accuracy calculation\n",
        "from sklearn import metrics\n",
        "\n",
        "# Model Accuracy: how often is the classifier correct?\n",
        "print(\"ACP:\",metrics.accuracy_score(y_test, y_pred))\n"
      ],
      "execution_count": 0,
      "outputs": [
        {
          "output_type": "stream",
          "text": [
            "ACP: 0.9649122807017544\n"
          ],
          "name": "stdout"
        }
      ]
    },
    {
      "cell_type": "markdown",
      "metadata": {
        "id": "D7jy5YCEK3EM",
        "colab_type": "text"
      },
      "source": [
        "Linear Kernel A linear kernel can be used as normal dot product any two given observations. The product between two vectors is the sum of the multiplication of each pair of input values.\n",
        "K(x, xi) = sum(x * xi)\n",
        "\n",
        "\n",
        "---\n",
        "\n",
        "\n",
        "\n",
        "\n",
        "Polynomial Kernel A polynomial kernel is a more generalized form of the linear kernel. The polynomial kernel can distinguish curved or nonlinear input space.\n",
        "K(x,xi) = 1 + sum(x * xi)^d\n",
        "Where d is the degree of the polynomial. d=1 is similar to the linear transformation. The degree needs to be manually specified in the learning algorithm.\n",
        "\n",
        "\n",
        "---\n",
        "\n",
        "\n",
        "\n",
        "\n",
        "Radial Basis Function Kernel The Radial basis function kernel is a popular kernel function commonly used in support vector machine classification. RBF can map an input space in infinite dimensional space.\n",
        "K(x,xi) = exp(-gamma * sum((x – xi^2))\n"
      ]
    },
    {
      "cell_type": "code",
      "metadata": {
        "id": "HEun1gUKp1eD",
        "colab_type": "code",
        "outputId": "54340ade-b861-461a-8900-e696986cc598",
        "colab": {
          "base_uri": "https://localhost:8080/",
          "height": 51
        }
      },
      "source": [
        "# Model Precision: what percentage of positive tuples are labeled as such?\n",
        "print(\"Prec:\",metrics.precision_score(y_test, y_pred))\n",
        "\n",
        "# Model Recall: what percentage of positive tuples are labelled as such?\n",
        "print(\"Recall:\",metrics.recall_score(y_test, y_pred))"
      ],
      "execution_count": 0,
      "outputs": [
        {
          "output_type": "stream",
          "text": [
            "Prec: 0.9811320754716981\n",
            "Recall: 0.9629629629629629\n"
          ],
          "name": "stdout"
        }
      ]
    },
    {
      "cell_type": "markdown",
      "metadata": {
        "id": "VW51n4c1mOKH",
        "colab_type": "text"
      },
      "source": [
        ""
      ]
    },
    {
      "cell_type": "markdown",
      "metadata": {
        "id": "MbQABUNIqGnF",
        "colab_type": "text"
      },
      "source": [
        "## SVM cant can be used for Large datasets \n",
        "# 🙁"
      ]
    },
    {
      "cell_type": "markdown",
      "metadata": {
        "id": "yxJ31ARRqVNk",
        "colab_type": "text"
      },
      "source": [
        ""
      ]
    },
    {
      "cell_type": "markdown",
      "metadata": {
        "id": "_hExVJWMqVVW",
        "colab_type": "text"
      },
      "source": [
        ""
      ]
    },
    {
      "cell_type": "markdown",
      "metadata": {
        "id": "wP-iwGOHqVX8",
        "colab_type": "text"
      },
      "source": [
        ""
      ]
    },
    {
      "cell_type": "markdown",
      "metadata": {
        "id": "OCKyia8fqVal",
        "colab_type": "text"
      },
      "source": [
        ""
      ]
    },
    {
      "cell_type": "markdown",
      "metadata": {
        "id": "pGpIaaM_qVhe",
        "colab_type": "text"
      },
      "source": [
        ""
      ]
    },
    {
      "cell_type": "markdown",
      "metadata": {
        "id": "t-jhlVkaqVmW",
        "colab_type": "text"
      },
      "source": [
        ""
      ]
    },
    {
      "cell_type": "markdown",
      "metadata": {
        "id": "5MF3tspEqVpW",
        "colab_type": "text"
      },
      "source": [
        ""
      ]
    },
    {
      "cell_type": "markdown",
      "metadata": {
        "id": "Vf6JPBPyqVsw",
        "colab_type": "text"
      },
      "source": [
        ""
      ]
    },
    {
      "cell_type": "markdown",
      "metadata": {
        "id": "T9BLqyapqVvS",
        "colab_type": "text"
      },
      "source": [
        ""
      ]
    },
    {
      "cell_type": "markdown",
      "metadata": {
        "id": "rlUq3ZHNqVyF",
        "colab_type": "text"
      },
      "source": [
        ""
      ]
    },
    {
      "cell_type": "markdown",
      "metadata": {
        "id": "17IpNkfWqV1v",
        "colab_type": "text"
      },
      "source": [
        ""
      ]
    },
    {
      "cell_type": "markdown",
      "metadata": {
        "id": "A8VxfbChqV4r",
        "colab_type": "text"
      },
      "source": [
        ""
      ]
    },
    {
      "cell_type": "markdown",
      "metadata": {
        "id": "FQbZbMYAqVfe",
        "colab_type": "text"
      },
      "source": [
        ""
      ]
    },
    {
      "cell_type": "markdown",
      "metadata": {
        "id": "NzxwbMBEqVdO",
        "colab_type": "text"
      },
      "source": [
        ""
      ]
    }
  ]
}