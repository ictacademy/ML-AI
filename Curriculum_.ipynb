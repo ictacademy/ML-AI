{
  "nbformat": 4,
  "nbformat_minor": 0,
  "metadata": {
    "colab": {
      "name": "Curriculum .ipynb",
      "provenance": [],
      "collapsed_sections": [],
      "toc_visible": true
    },
    "kernelspec": {
      "name": "python3",
      "display_name": "Python 3"
    }
  },
  "cells": [
    {
      "cell_type": "markdown",
      "metadata": {
        "id": "kXUG-05t7nTX",
        "colab_type": "text"
      },
      "source": [
        "# Neural Networks\n",
        "\n",
        "\n",
        "\n",
        "---\n",
        "\n",
        "\n",
        "\n"
      ]
    },
    {
      "cell_type": "markdown",
      "metadata": {
        "id": "cS4-y1orMaVQ",
        "colab_type": "text"
      },
      "source": [
        "## *What is Neural Networks*"
      ]
    },
    {
      "cell_type": "markdown",
      "metadata": {
        "id": "lErKCE0EMs0W",
        "colab_type": "text"
      },
      "source": [
        "### The Light sensitive cells that are firing when you see the first 'three' and the second 'three' are very diffrent\n",
        "\n",
        "![alt text](https://1.bp.blogspot.com/-Phc4y3d47H0/XXZdPJTtlxI/AAAAAAAADXU/1W8cpGUOgCcTAts1nBK0gPcpGcWa3D11ACLcBGAs/s320/ezgif.com-gif-maker.gif)\n",
        "\n",
        "\n",
        "### Picture Credits -3b1b\n"
      ]
    },
    {
      "cell_type": "markdown",
      "metadata": {
        "id": "Tkcc8OCkrunq",
        "colab_type": "text"
      },
      "source": [
        "### This is possible with milliards of Neurons in the Brain\n",
        "\n",
        "![alt text](https://media3.giphy.com/media/9N2UvCx7wXLnG/giphy.gif)"
      ]
    },
    {
      "cell_type": "markdown",
      "metadata": {
        "id": "-SQnEb-pzc5q",
        "colab_type": "text"
      },
      "source": [
        "## Artificial Neural Networks (ANN)"
      ]
    },
    {
      "cell_type": "markdown",
      "metadata": {
        "id": "ztxzledt054F",
        "colab_type": "text"
      },
      "source": [
        "#### Artificial Neural Networks are the computational models that are inspired by the human brain. "
      ]
    },
    {
      "cell_type": "markdown",
      "metadata": {
        "id": "xXoTW9523cf6",
        "colab_type": "text"
      },
      "source": [
        "### Differences between Biological Neurons and Artifical \n",
        "![alt text](https://images.xenonstack.com/blog/How-Is-Brain-Different-From-Computers.png)"
      ]
    },
    {
      "cell_type": "markdown",
      "metadata": {
        "id": "jHqubtIOOZ_-",
        "colab_type": "text"
      },
      "source": [
        "## How does a Neural Network work"
      ]
    },
    {
      "cell_type": "markdown",
      "metadata": {
        "id": "I6TbuyIT3nPe",
        "colab_type": "text"
      },
      "source": [
        "### What can the modern Neural Networks Do ?"
      ]
    },
    {
      "cell_type": "markdown",
      "metadata": {
        "id": "UsF_u2PnyYdp",
        "colab_type": "text"
      },
      "source": [
        "\n",
        "\n",
        " 1. #### Image Recognition - Convolution Neural Networks are used to identify images. Facebook uses such algorithm to auto tag a person on a photograph.\n",
        "\n",
        "2. #### Composing music - Deep Neural Nets can be used to produce music by making computers learn the patterns in a composition.\n",
        "\n",
        "3. #### Robot Navigation: Artificial Neural Nets are used to train robots to perform human tasks\n",
        "\n",
        "4. #### Autonomous Driving cars: Neural Networks can be used to distinguish different types of objects, people, road signs and drives without human intervention and train a vehicle to drive of it own.\n",
        "\n",
        "###                                      And Many More!\n",
        "\n"
      ]
    },
    {
      "cell_type": "markdown",
      "metadata": {
        "id": "WEpycrX3FwRJ",
        "colab_type": "text"
      },
      "source": [
        "![alt text](https://i.pinimg.com/originals/06/23/c8/0623c8f920e53c14682e6cf8515a2849.jpg)"
      ]
    },
    {
      "cell_type": "markdown",
      "metadata": {
        "id": "6lEdd1x6OES7",
        "colab_type": "text"
      },
      "source": [
        "# How did we get here ? "
      ]
    },
    {
      "cell_type": "markdown",
      "metadata": {
        "id": "Vnu9_J4pP8jp",
        "colab_type": "text"
      },
      "source": [
        "1. **Idea of Artificial Intelligence Date back to 1940s**\n",
        "\n",
        "2. **There were many promises of True Artificial Intelligence but non was fullfiled**"
      ]
    },
    {
      "cell_type": "markdown",
      "metadata": {
        "id": "GubN9jbyQ5GG",
        "colab_type": "text"
      },
      "source": [
        "\n",
        "![alt text](http://www.rutherfordjournal.org/images/TAHC_rosenblatt-sepia.jpg)\n",
        "\n",
        "**Frank Rosenblatt found the Perceptron** 1957\n",
        "\n",
        "**Preceptron could do tasks like Recognise Numbers and Letters**"
      ]
    },
    {
      "cell_type": "markdown",
      "metadata": {
        "id": "gWp0u37wSid_",
        "colab_type": "text"
      },
      "source": [
        "## How did the preceptron work ?"
      ]
    },
    {
      "cell_type": "markdown",
      "metadata": {
        "id": "f4L6I5IzdJY8",
        "colab_type": "text"
      },
      "source": [
        ""
      ]
    },
    {
      "cell_type": "markdown",
      "metadata": {
        "id": "6UHWaZChLKan",
        "colab_type": "text"
      },
      "source": [
        ""
      ]
    },
    {
      "cell_type": "markdown",
      "metadata": {
        "id": "ojMW-cotdaup",
        "colab_type": "text"
      },
      "source": [
        "\n",
        "\n",
        "---\n",
        "\n",
        "\n",
        "\n",
        "---\n",
        "\n",
        "\n",
        " **Minsky and Papert 1969 paper**\n",
        "![alt text](https://encrypted-tbn0.gstatic.com/images?q=tbn%3AANd9GcRIDUOVxy0RBI-SB327puULBxu5Ygu-Qo1r0jKGO1nJ08_Rr2B9)\n",
        "\n",
        "**(XOR is the problem of using a neural network to predict the outputs of XOr logic gates given two binary inputs. An XOr function should return a true value if the two inputs are not equal and a false value if they are equal.)**\n",
        "\n",
        "**This stopped the Research on Neural Networks for 20 Years**\n",
        "\n"
      ]
    },
    {
      "cell_type": "markdown",
      "metadata": {
        "id": "2Y6TLjaCr7hS",
        "colab_type": "text"
      },
      "source": [
        "**Geoff Hinton published a paper in 1986 entitled- “Learning representations by back-propagating errors”**\n",
        "(Nn with many hidden layers)\n",
        "![alt text](https://encrypted-tbn0.gstatic.com/images?q=tbn%3AANd9GcSQovFfv25L0JJhvPkoSg0d_D-qKaBgiAUZRmuvoxdXhrVd9M15)"
      ]
    },
    {
      "cell_type": "markdown",
      "metadata": {
        "id": "hpORtXBHv9iC",
        "colab_type": "text"
      },
      "source": [
        "## Lets see how a Neural Network works !"
      ]
    },
    {
      "cell_type": "markdown",
      "metadata": {
        "id": "HjUSLPLVXx1_",
        "colab_type": "text"
      },
      "source": [
        "## Neural Network\n",
        "\n",
        "**Network of Neurons**\n",
        "\n",
        "**Neurons - What are neurons?**\n",
        "\n",
        "**Network - what are Networks ?**"
      ]
    },
    {
      "cell_type": "markdown",
      "metadata": {
        "id": "_QeVXnUGYubG",
        "colab_type": "text"
      },
      "source": [
        "## **Handwritten Number Classification**\n",
        "\n",
        "![alt text](https://1.bp.blogspot.com/-UnZDURn8DW4/XX1LCC6BbMI/AAAAAAAADXo/DRtmX_mreLYLvyJ8Zhf5uyH7AAd54Ar6gCLcBGAsYHQ/s1600/Screenshot%2B2019-09-15%2Bat%2B1.46.59%2BAM.png)\n",
        "\n"
      ]
    },
    {
      "cell_type": "markdown",
      "metadata": {
        "id": "Y-BC1T4OkK7R",
        "colab_type": "text"
      },
      "source": [
        "<img src=\"https://1.bp.blogspot.com/-eUYqhN6WTTE/XX1UDyBCztI/AAAAAAAADX0/jRR2fLgqjFIneKyHiPVggQYaK1llcqxWACLcBGAsYHQ/s1600/Screenshot%2B2019-09-15%2Bat%2B2.26.24%2BAM.png\"  width=\"500\" height=\"550\">\n",
        "\n",
        "There are many times - \n",
        "\n",
        "CNN - ues for IR \n",
        "\n",
        "LSTM - SR"
      ]
    },
    {
      "cell_type": "markdown",
      "metadata": {
        "id": "Z8u3-_bAhUxy",
        "colab_type": "text"
      },
      "source": [
        "![alt text](https://miro.medium.com/max/4000/1*cuTSPlTq0a_327iTPJyD-Q.png)"
      ]
    },
    {
      "cell_type": "markdown",
      "metadata": {
        "id": "e3ayiJ_fvcIe",
        "colab_type": "text"
      },
      "source": [
        "\n",
        "<font size=\"5\" color=\"white\">Neuron ----> A random number between 0 and 1 </font>\n",
        "\n",
        "\n",
        "<font size=\"5\" color=\"white\">0 ----> Black Pixel 1 ----> White Pixel</font>\n"
      ]
    },
    {
      "cell_type": "markdown",
      "metadata": {
        "id": "luUA6ylSycDE",
        "colab_type": "text"
      },
      "source": [
        "![alt text](https://media.giphy.com/media/d5rRRemkRgAcNtatbY/giphy.gif)\n",
        "\n",
        "\n",
        "\n",
        "---\n",
        "\n",
        "\n",
        "\n",
        "---\n",
        "\n"
      ]
    },
    {
      "cell_type": "markdown",
      "metadata": {
        "id": "IST-FwuN01-0",
        "colab_type": "text"
      },
      "source": [
        "<img src=\"https://1.bp.blogspot.com/-l_sFwym62Rs/XX1lEqXvLSI/AAAAAAAADYA/lncVfZ0nOTYgdMxccKdI7bK7ltn--8_GgCLcBGAsYHQ/s1600/Screenshot%2B2019-09-15%2Bat%2B3.39.00%2BAM.png\"  width=\"900\" height=\"600\">"
      ]
    },
    {
      "cell_type": "markdown",
      "metadata": {
        "id": "BFSt364Y1qC9",
        "colab_type": "text"
      },
      "source": [
        "<img src=\"https://1.bp.blogspot.com/-nngXVRGKFNE/XX1rVpar8LI/AAAAAAAADYo/m1OnGsk2dhE6OiMMdMz1K748h6MlM104gCLcBGAsYHQ/s1600/Screenshot%2B2019-09-15%2Bat%2B3.46.37%2BAM%2Bcopy.png\"  width=\"900\" height=\"600\">"
      ]
    },
    {
      "cell_type": "markdown",
      "metadata": {
        "id": "_RhNDtTv0UZL",
        "colab_type": "text"
      },
      "source": [
        "<img src=\"https://1.bp.blogspot.com/-AIlKJeVCljY/XX3rvml1ypI/AAAAAAAADZE/99LsXF8vjN0CU4y3NYhxtMSg3aFZ8qucgCLcBGAsYHQ/s1600/liop.png\"  width=\"900\" height=\"600\">\n",
        "Trained network working "
      ]
    },
    {
      "cell_type": "markdown",
      "metadata": {
        "id": "ekI5I3bJ4gCI",
        "colab_type": "text"
      },
      "source": [
        "## How does these layered structure is able to behave Intelligently ?"
      ]
    },
    {
      "cell_type": "markdown",
      "metadata": {
        "id": "LGRgXlKD5SeI",
        "colab_type": "text"
      },
      "source": [
        "<font size=\"5\" color=\"white\">Our best hope what the hidden layers do </font>\n"
      ]
    },
    {
      "cell_type": "markdown",
      "metadata": {
        "id": "TzkJKDOb5hEC",
        "colab_type": "text"
      },
      "source": [
        "<img src=\"https://1.bp.blogspot.com/--fYHa9fLt-c/XX3xUz2rmkI/AAAAAAAADZc/1z4ygM0sNKwC8MNY3mUlcxKO8aEEIliCACLcBGAsYHQ/s1600/liop3.png\"  width=\"900\" height=\"600\">"
      ]
    },
    {
      "cell_type": "markdown",
      "metadata": {
        "id": "3b91wGOBHejg",
        "colab_type": "text"
      },
      "source": [
        "\n",
        "\n",
        "<img src=\"https://1.bp.blogspot.com/-DUBjOCT8src/XX3wM42lgYI/AAAAAAAADZQ/b51OBl9Azyw0r9Q5f9Wolc2FFmDvPxohgCLcBGAsYHQ/s1600/scrn.png\"  width=\"900\" height=\"600\">\n",
        "\n",
        "Which combination corresponds to which digit "
      ]
    },
    {
      "cell_type": "markdown",
      "metadata": {
        "id": "5USXTqqYKwio",
        "colab_type": "text"
      },
      "source": [
        "Recognising subcomponent ? --->"
      ]
    },
    {
      "cell_type": "markdown",
      "metadata": {
        "id": "4yrrQMHfR3Oy",
        "colab_type": "text"
      },
      "source": [
        "<img src=\"https://1.bp.blogspot.com/-mnW4R4_iD9Y/XX4GW0742gI/AAAAAAAADZo/0_anSknd92gq1TGAGLoY91VHbkyIfp7iQCLcBGAsYHQ/s1600/Screenshot%2B2019-09-15%2Bat%2B3.06.58%2BPM.png\"  width=\"2000\" height=\"500\">"
      ]
    },
    {
      "cell_type": "markdown",
      "metadata": {
        "id": "eh9Rl4CtX3vg",
        "colab_type": "text"
      },
      "source": [
        "How exactly activation is one layer determine the activation is the next layer. If we can do this we can easily find the answer. "
      ]
    },
    {
      "cell_type": "markdown",
      "metadata": {
        "id": "VqQbWDJiYfXZ",
        "colab_type": "text"
      },
      "source": [
        "## Lets see how the edges and patterns are detected."
      ]
    },
    {
      "cell_type": "markdown",
      "metadata": {
        "id": "UYUQI7v4cugW",
        "colab_type": "text"
      },
      "source": [
        "<img src=\"https://1.bp.blogspot.com/-JORiDunLdH4/XX4Q4q5sW2I/AAAAAAAADaA/QNsGBhO0dzEsDbH7-ogiMnuINDuZHMjPgCLcBGAsYHQ/s1600/Screenshot%2B2019-09-15%2Bat%2B3.51.57%2BPM.png\"  width=\"700\" height=\"500\">\n",
        "\n",
        "What parameters is requred to detect wether the image have an edge on this region"
      ]
    },
    {
      "cell_type": "markdown",
      "metadata": {
        "id": "5ECBDNS2d_3x",
        "colab_type": "text"
      },
      "source": [
        "<img src=\"https://1.bp.blogspot.com/-0Oc2RdUuVIA/XX4Sk1GWu1I/AAAAAAAADaM/ksE0Rr4QiDgR-v1ddAGDjDpgpWRzA8RgwCLcBGAsYHQ/s1600/Screenshot%2B2019-09-15%2Bat%2B3.58.22%2BPM.png\"  width=\"700\" height=\"500\">\n",
        "\n",
        "Weights : connections"
      ]
    },
    {
      "cell_type": "markdown",
      "metadata": {
        "id": "T9e6lopYhGwg",
        "colab_type": "text"
      },
      "source": [
        "Find the activation of Neurons\n",
        "\n",
        "![alt text](https://1.bp.blogspot.com/-RL5sWFi_ZSA/XX4WsqqVHMI/AAAAAAAADaY/2ZKKWGPwuGMY_fkwA3I23uEr7hCb0pAbgCLcBGAsYHQ/s1600/ezgif.com-video-to-gif.gif)"
      ]
    },
    {
      "cell_type": "markdown",
      "metadata": {
        "id": "6ECXxMu_1vYL",
        "colab_type": "text"
      },
      "source": [
        "![alt text](https://1.bp.blogspot.com/-Y-iwn3JV-sE/XX4qhPR6BqI/AAAAAAAADa8/uZ0WLko5MQ4vqI9RU6rP9NrNzWPCHKsagCLcBGAsYHQ/s1600/Screenshot%2B2019-09-15%2Bat%2B5.23.02%2BPM.png)\n",
        "\n",
        "Green pixel ---> Positive weight \n",
        "\n",
        "Red picel ---> Negative weight \n",
        "\n",
        " Brightness ---> Value \n",
        "\n",
        "**Lets make all Weights 0 exept in this region that we want**"
      ]
    },
    {
      "cell_type": "markdown",
      "metadata": {
        "id": "FUaZ31A75bH_",
        "colab_type": "text"
      },
      "source": [
        "![alt text](https://1.bp.blogspot.com/-SBF8MtOMogg/XX4p6a_f4WI/AAAAAAAADak/h_IYQQa-XfIpCboTKJ4HIRgN54a3dMRawCEwYBhgL/s1600/Screenshot%2B2019-09-15%2Bat%2B5.25.11%2BPM.png)\n",
        "\n"
      ]
    },
    {
      "cell_type": "markdown",
      "metadata": {
        "id": "ZpF3NkpQ6kuE",
        "colab_type": "text"
      },
      "source": [
        "![alt text](https://1.bp.blogspot.com/-dC--SymNIp0/XX4vk6lRXYI/AAAAAAAADbI/qRr7cFtzLy81YMkn5HHVgzhMvQ57-wtdQCLcBGAsYHQ/s1600/ezgif.com-video-to-gif-2.gif)\n",
        "\n",
        "Doing this we can add the pixel values in the region we want"
      ]
    },
    {
      "cell_type": "markdown",
      "metadata": {
        "id": "vTzecpavIIPS",
        "colab_type": "text"
      },
      "source": [
        "** Now if we want to pickup wether there is an edge we can have some negative pixels , So the sum is largest **\n",
        "\n",
        "![alt text](https://1.bp.blogspot.com/-fUif5ug-w2M/XX4_HEiMWHI/AAAAAAAADbU/fXfG2O3OQUwDfEKix7RP1x400lcave2SQCLcBGAsYHQ/s1600/Screenshot%2B2019-09-15%2Bat%2B7.03.46%2BPM.png)"
      ]
    },
    {
      "cell_type": "markdown",
      "metadata": {
        "id": "PUl_cbf2OtyH",
        "colab_type": "text"
      },
      "source": [
        "![alt text](https://1.bp.blogspot.com/-Bx7EZMDlXrw/XX5ENbywL8I/AAAAAAAADbg/7QyJSb_9ngIvP5dvIqs-zCO74SiRzqTNwCLcBGAsYHQ/s1600/Screenshot%2B2019-09-15%2Bat%2B7.31.00%2BPM.png)\n",
        "\n",
        "We need to squeeze the weighted sum in this range"
      ]
    },
    {
      "cell_type": "markdown",
      "metadata": {
        "id": "2x-VGl_0PGSC",
        "colab_type": "text"
      },
      "source": [
        "**Sigmoid Function**\n",
        " \n",
        " ![alt text](https://1.bp.blogspot.com/-Am4qZ3YcZ0I/XX5FWJTXVgI/AAAAAAAADbs/ldx9T3XUx-QRuUdpNzR6SHFpl_mnjzCDgCLcBGAsYHQ/s1600/Screenshot%2B2019-09-15%2Bat%2B7.35.52%2BPM.png)\n",
        "\n",
        " The sigmoid function help sqish the weighted sum to a number between 0 and 1 as we need"
      ]
    },
    {
      "cell_type": "markdown",
      "metadata": {
        "id": "4jlD50TzXklJ",
        "colab_type": "text"
      },
      "source": [
        "![alt text](https://1.bp.blogspot.com/--knPgyoUNrk/XX5OqKkEQTI/AAAAAAAADb4/NREh1w3oOcw9M1vayWQs3Lga_YV5tbuTwCLcBGAsYHQ/s1600/Screenshot%2B2019-09-15%2Bat%2B8.15.36%2BPM.png)"
      ]
    },
    {
      "cell_type": "markdown",
      "metadata": {
        "id": "X6C8qteZZEtR",
        "colab_type": "text"
      },
      "source": [
        "**Activation of the Neuron depends on how positive the weighed sum is**"
      ]
    },
    {
      "cell_type": "markdown",
      "metadata": {
        "id": "tv3gh4SU0QZN",
        "colab_type": "text"
      },
      "source": [
        "Maybe you don't want the neuron to be active when the weighted sum is above 0. So for that you add a bias "
      ]
    },
    {
      "cell_type": "markdown",
      "metadata": {
        "id": "Jl8XULRl0bMS",
        "colab_type": "text"
      },
      "source": [
        "Maybe you only want to activate if the sum is only above some number."
      ]
    },
    {
      "cell_type": "markdown",
      "metadata": {
        "id": "pQGVYeTJDvag",
        "colab_type": "text"
      },
      "source": [
        "**Bias for Inactivity** . \n",
        "\n",
        "We add bias before putting into the sigmoid"
      ]
    },
    {
      "cell_type": "markdown",
      "metadata": {
        "id": "l13bgLNlEr4J",
        "colab_type": "text"
      },
      "source": [
        "![alt text](https://1.bp.blogspot.com/-hgYYaVeXIqk/XX_ET8vMwzI/AAAAAAAADcQ/V9I5kBCjA4Q5wV6QI02hfAxCcukTxdaAgCLcBGAsYHQ/s1600/Screenshot%2B2019-09-16%2Bat%2B10.45.43%2BPM.png)"
      ]
    },
    {
      "cell_type": "markdown",
      "metadata": {
        "id": "Oa7yMaB9GgZp",
        "colab_type": "text"
      },
      "source": [
        "Weight tell you what pattern this neuron in the second layer is picking on. \n",
        "And the Bias tell you how high the weighted sum should be for the neuron to be realy active "
      ]
    },
    {
      "cell_type": "markdown",
      "metadata": {
        "id": "ueN9knCo7FTH",
        "colab_type": "text"
      },
      "source": [
        "![alt text](https://1.bp.blogspot.com/-_F-aI9VZxgQ/XX_6uZCQhVI/AAAAAAAADcc/uDhQs7IbdLkMPai0Xwz6dYbyxHYHiQ8MQCLcBGAsYHQ/s1600/Screenshot%2B2019-09-17%2Bat%2B2.42.02%2BAM.png)"
      ]
    },
    {
      "cell_type": "markdown",
      "metadata": {
        "id": "6QDtFPbi-sRk",
        "colab_type": "text"
      },
      "source": [
        "![alt text](https://1.bp.blogspot.com/-5Re4GmuEiP0/XX__oxmnxMI/AAAAAAAADco/Ulsvzao1YrkOSMXlz3ob_F69S7GD-AX3wCLcBGAsYHQ/s1600/Screenshot%2B2019-09-17%2Bat%2B3.03.04%2BAM.png)\n",
        "\n",
        "<font size=\"18\" color=\"white\"> = 13000 </font>\n",
        "\n"
      ]
    },
    {
      "cell_type": "markdown",
      "metadata": {
        "id": "AMArzejSFdBc",
        "colab_type": "text"
      },
      "source": [
        "<font size=\"6\" color=\"white\"> Learning --->Finding the right weights and biases  </font>"
      ]
    },
    {
      "cell_type": "markdown",
      "metadata": {
        "id": "t3YpfPuoGB-K",
        "colab_type": "text"
      },
      "source": [
        "![alt text](https://1.bp.blogspot.com/-U7HoXzFvrBE/XYAGUPZwtbI/AAAAAAAADc0/eTKzW-ka-yEy0d9qHbRth3uSfLd_YY09wCLcBGAsYHQ/s1600/Screenshot%2B2019-09-17%2Bat%2B3.31.11%2BAM.png)"
      ]
    },
    {
      "cell_type": "markdown",
      "metadata": {
        "id": "TlpQBf7sJs89",
        "colab_type": "text"
      },
      "source": [
        "![alt text](https://1.bp.blogspot.com/-AWPXR3lgtzc/XYAMJQzOGTI/AAAAAAAADdA/D6q3xeXWgzMVwukwjyOfx3_k5lDg0JwYgCLcBGAsYHQ/s1600/Screenshot%2B2019-09-17%2Bat%2B3.56.10%2BAM.png)\n",
        "\n",
        "activation > column(Vector) \n",
        "\n",
        "weights  > matrix (each row of the matrix shows the connections between one layer and purticular neuron in next layer)\n",
        "\n",
        "\n",
        "\n",
        "---\n",
        " \n",
        " Bias > vector (bias is added into the product of activations and weights)\n",
        "\n",
        " Sigmoid > is added... Or Relu (Sigmoid is added to each component's is the resulting vector)\n",
        "\n",
        "\n",
        "\n",
        "\n"
      ]
    },
    {
      "cell_type": "markdown",
      "metadata": {
        "id": "mA8YCy3HMqjB",
        "colab_type": "text"
      },
      "source": [
        "This is just between 2 layers"
      ]
    },
    {
      "cell_type": "markdown",
      "metadata": {
        "id": "kN0P5fJRMz2W",
        "colab_type": "text"
      },
      "source": [
        "Libraries in matrix multiplication "
      ]
    },
    {
      "cell_type": "markdown",
      "metadata": {
        "id": "imWZMKV_JiU_",
        "colab_type": "text"
      },
      "source": [
        "<font size=\"8\" color=\"white\">\n",
        "http://bit.ly/matrixmulict </font>\n"
      ]
    },
    {
      "cell_type": "markdown",
      "metadata": {
        "id": "dPzXYZ7FNbJr",
        "colab_type": "text"
      },
      "source": [
        ""
      ]
    },
    {
      "cell_type": "markdown",
      "metadata": {
        "id": "AI_N5Sz5NMPf",
        "colab_type": "text"
      },
      "source": [
        "## How does the network learn the appropriate weights and biases just by ;ooking at data "
      ]
    },
    {
      "cell_type": "markdown",
      "metadata": {
        "id": "utOefnFYNivp",
        "colab_type": "text"
      },
      "source": [
        "<font size=\"6\" color=\"white\"> Training --->Finding the right weights and biases  </font>"
      ]
    },
    {
      "cell_type": "markdown",
      "metadata": {
        "id": "U4MIZrqYS4Rn",
        "colab_type": "text"
      },
      "source": [
        "1. Randomly set eights and bias\n",
        "\n",
        "![alt text](https://1.bp.blogspot.com/-o8ILqt2IbPI/XYATeHIBj0I/AAAAAAAADdM/w_Fi7uIjlJ4tuiizAoMbQ4iZ_a9jd2xJQCLcBGAsYHQ/s1600/Screenshot%2B2019-09-17%2Bat%2B4.27.20%2BAM.png)\n",
        "\n"
      ]
    },
    {
      "cell_type": "markdown",
      "metadata": {
        "id": "ddt6GnPoUtd7",
        "colab_type": "text"
      },
      "source": [
        "2. Then we define a cost function. Cost function tells this is wrong and the network should have 0 as activation for every network but except \"3\" \n",
        "\n",
        "3. Technically the cost fuction finds an average cost which means how bad the network is "
      ]
    },
    {
      "cell_type": "markdown",
      "metadata": {
        "id": "MbL_pKmxWYhn",
        "colab_type": "text"
      },
      "source": [
        "![alt text](https://1.bp.blogspot.com/-uNJuAmoPUsw/XYAXHfhxwyI/AAAAAAAADdc/PPEEF-zz1Vg_cUTevayNdS2LEWQyaoZRACLcBGAsYHQ/s1600/Screenshot%2B2019-09-17%2Bat%2B4.42.36%2BAM.png)"
      ]
    },
    {
      "cell_type": "markdown",
      "metadata": {
        "id": "GfxGrrJyWv8O",
        "colab_type": "text"
      },
      "source": [
        "\n",
        "\n",
        "---\n",
        "\n",
        "\n",
        "\n",
        "---\n",
        "\n"
      ]
    },
    {
      "cell_type": "markdown",
      "metadata": {
        "id": "sJ5mXrbcWx10",
        "colab_type": "text"
      },
      "source": [
        "![alt text](https://1.bp.blogspot.com/-R1_JLkkDs6Q/XYAXHMEGMoI/AAAAAAAADdY/BdpMpGDa1eoxuxSDg51HyWFAzLlu2EwQACLcBGAsYHQ/s1600/Screenshot%2B2019-09-17%2Bat%2B4.43.01%2BAM.png)"
      ]
    },
    {
      "cell_type": "code",
      "metadata": {
        "id": "Xvb5d2XeW5ea",
        "colab_type": "code",
        "colab": {}
      },
      "source": [
        ""
      ],
      "execution_count": 0,
      "outputs": []
    }
  ]
}